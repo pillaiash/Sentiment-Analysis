{
  "nbformat": 4,
  "nbformat_minor": 0,
  "metadata": {
    "colab": {
      "provenance": []
    },
    "kernelspec": {
      "name": "python3",
      "display_name": "Python 3"
    },
    "language_info": {
      "name": "python"
    }
  },
  "cells": [
    {
      "cell_type": "code",
      "execution_count": 1,
      "metadata": {
        "id": "Lm9DZdTSEZag"
      },
      "outputs": [],
      "source": [
        "from textblob import TextBlob\n",
        "\n",
        "def analyze_sentiment(text):\n",
        "    blob = TextBlob(text)\n",
        "    sentiment = blob.sentiment.polarity\n",
        "    if sentiment > 0:\n",
        "        return 'Positive'\n",
        "    elif sentiment < 0:\n",
        "        return 'Negative'\n",
        "    else:\n",
        "        return 'Neutral'\n"
      ]
    },
    {
      "cell_type": "code",
      "source": [
        "import spacy\n",
        "\n",
        "nlp = spacy.load(\"en_core_web_sm\")\n",
        "\n",
        "def extract_key_phrases(text):\n",
        "    doc = nlp(text)\n",
        "    return [chunk.text for chunk in doc.noun_chunks]\n"
      ],
      "metadata": {
        "id": "zOfwFgLqEkzz"
      },
      "execution_count": 2,
      "outputs": []
    },
    {
      "cell_type": "code",
      "source": [
        "def assess_quality(sentiment, key_phrases):\n",
        "    # Simple quality assessment: count key phrases and check sentiment\n",
        "    score = len(key_phrases)\n",
        "    if sentiment == 'Positive':\n",
        "        score += 1\n",
        "    elif sentiment == 'Negative':\n",
        "        score -= 1\n",
        "    return score\n"
      ],
      "metadata": {
        "id": "zTjD3IM7FAYw"
      },
      "execution_count": 3,
      "outputs": []
    },
    {
      "cell_type": "code",
      "source": [
        "def main():\n",
        "    with open('responses.txt', 'r') as file:\n",
        "        responses = file.readlines()\n",
        "\n",
        "    for response in responses:\n",
        "        sentiment = analyze_sentiment(response)\n",
        "        key_phrases = extract_key_phrases(response)\n",
        "        quality = assess_quality(sentiment, key_phrases)\n",
        "        print(f\"Response: {response.strip()}\")\n",
        "        print(f\"Sentiment: {sentiment}\")\n",
        "        print(f\"Key Phrases: {key_phrases}\")\n",
        "        print(f\"Quality Score: {quality}\\n\")\n",
        "\n",
        "if __name__ == \"__main__\":\n",
        "    main()\n"
      ],
      "metadata": {
        "colab": {
          "base_uri": "https://localhost:8080/"
        },
        "id": "NnqaKigsFAeR",
        "outputId": "0dd175b9-59dd-4a87-bf2d-fb188bff040d"
      },
      "execution_count": 4,
      "outputs": [
        {
          "output_type": "stream",
          "name": "stdout",
          "text": [
            "Response: Response 1: I am passionate about data science and enjoy working with large datasets to uncover insights that drive business decisions.\n",
            "Sentiment: Positive\n",
            "Key Phrases: ['I', 'data science', 'large datasets', 'insights', 'that', 'business decisions']\n",
            "Quality Score: 7\n",
            "\n",
            "Response: \n",
            "Sentiment: Neutral\n",
            "Key Phrases: []\n",
            "Quality Score: 0\n",
            "\n",
            "Response: Response 2: In my previous internship, I developed a machine learning model that improved customer retention by 15% through personalized recommendations.\n",
            "Sentiment: Negative\n",
            "Key Phrases: ['my previous internship', 'I', 'a machine learning model', 'that', 'customer retention', '15%', 'personalized recommendations']\n",
            "Quality Score: 6\n",
            "\n",
            "Response: \n",
            "Sentiment: Neutral\n",
            "Key Phrases: []\n",
            "Quality Score: 0\n",
            "\n",
            "Response: Response 3: My greatest strength is my ability to collaborate with cross-functional teams to achieve project milestones efficiently.\n",
            "Sentiment: Positive\n",
            "Key Phrases: ['My greatest strength', 'my ability', 'cross-functional teams', 'project milestones']\n",
            "Quality Score: 5\n",
            "\n",
            "Response: \n",
            "Sentiment: Neutral\n",
            "Key Phrases: []\n",
            "Quality Score: 0\n",
            "\n",
            "Response: Response 4: I believe communication skills are crucial in data science, as they facilitate effective stakeholder engagement and project alignment.\n",
            "Sentiment: Positive\n",
            "Key Phrases: ['I', 'communication skills', 'data science', 'they', 'effective stakeholder engagement', 'project alignment']\n",
            "Quality Score: 7\n",
            "\n",
            "Response: \n",
            "Sentiment: Neutral\n",
            "Key Phrases: []\n",
            "Quality Score: 0\n",
            "\n",
            "Response: Response 5: One challenge I faced was debugging a complex neural network architecture, which required persistence and problem-solving skills.\n",
            "Sentiment: Negative\n",
            "Key Phrases: ['One challenge', 'I', 'a complex neural network architecture', 'which', 'persistence', 'problem-solving skills']\n",
            "Quality Score: 5\n",
            "\n",
            "Response: \n",
            "Sentiment: Neutral\n",
            "Key Phrases: []\n",
            "Quality Score: 0\n",
            "\n",
            "Response: Response 6: I am excited about the opportunity to apply my analytical skills to real-world problems and contribute to innovative solutions.\n",
            "Sentiment: Positive\n",
            "Key Phrases: ['I', 'the opportunity', 'my analytical skills', 'real-world problems', 'innovative solutions']\n",
            "Quality Score: 6\n",
            "\n",
            "Response: \n",
            "Sentiment: Neutral\n",
            "Key Phrases: []\n",
            "Quality Score: 0\n",
            "\n",
            "Response: Response 7: Continuous learning is important to me, and I stay updated with the latest trends in machine learning through online courses and research papers.\n",
            "Sentiment: Positive\n",
            "Key Phrases: ['Continuous learning', 'me', 'I', 'the latest trends', 'online courses', 'research papers']\n",
            "Quality Score: 7\n",
            "\n",
            "Response: \n",
            "Sentiment: Neutral\n",
            "Key Phrases: []\n",
            "Quality Score: 0\n",
            "\n",
            "Response: Response 8: My long-term career goal is to become a data scientist specializing in natural language processing, leveraging AI to automate information extraction.\n",
            "Sentiment: Positive\n",
            "Key Phrases: ['My long-term career goal', 'a data scientist', 'natural language processing', 'AI', 'information extraction']\n",
            "Quality Score: 6\n",
            "\n",
            "Response: \n",
            "Sentiment: Neutral\n",
            "Key Phrases: []\n",
            "Quality Score: 0\n",
            "\n",
            "Response: Response 9: I am detail-oriented and ensure accuracy in data analysis, which is crucial for making informed business decisions.\n",
            "Sentiment: Neutral\n",
            "Key Phrases: ['I', 'accuracy', 'data analysis', 'which', 'informed business decisions']\n",
            "Quality Score: 5\n",
            "\n",
            "Response: \n",
            "Sentiment: Neutral\n",
            "Key Phrases: []\n",
            "Quality Score: 0\n",
            "\n",
            "Response: Response 10: Time management is key in my work approach, allowing me to prioritize tasks effectively and meet project deadlines.\n",
            "Sentiment: Positive\n",
            "Key Phrases: ['Response', 'Time management', 'my work approach', 'me', 'tasks', 'project deadlines']\n",
            "Quality Score: 7\n",
            "\n"
          ]
        }
      ]
    }
  ]
}